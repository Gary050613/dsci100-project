{
 "cells": [
  {
   "cell_type": "markdown",
   "id": "43bf5f5e-0b9e-4366-95d0-fe6e8011dbbe",
   "metadata": {},
   "source": [
    "# Relationship between Spending Behaviour and Credit Score"
   ]
  },
  {
   "cell_type": "markdown",
   "id": "d93e25cf-8b46-4d69-92a7-cb675b15ae4f",
   "metadata": {},
   "source": [
    "### Introduction\n",
    "A credit score is important for one to take out a loan for a house or other assets that require a high-risk purchase. Therefore, being able to know what to spend or save up your money to maintain a high credit score is essential for ensuring that you can purchase these expensive assets. Using past data on other people’s financial decisions and features can show or predict what one should do to keep a high credit score, which is the purpose of this project.\n",
    "\n",
    "We will try to answer the following questions:\n",
    "\n",
    "How do spending behaviours may impact one’s credit score?\n",
    "And can we predict one’s credit score based on spending behaviours?\n",
    "Our dataset comprises 1000 customers, with 84 features of their financial behaviour used to gauge the data's use in estimating credit risk and potential defaults."
   ]
  },
  {
   "cell_type": "markdown",
   "id": "50ea7f8c-43d2-4b44-8b76-ab430fc6f7d4",
   "metadata": {},
   "source": [
    "### Methods and Results\n",
    "- We will first explore the relationships between income, savings, debt, and credit score. If we cannot find a strong correlation/ prediction, we will change the predictors by dividing the predictors into more sub-categories (e.g. Gambling spending, Housing spending, Education spending, etc) and selecting variables that we believe have a stronger impact on credit score.\n",
    "- Then, with the variables that correlate with credit score, we will use those as predictors to train the regression model\n",
    "- We will use the KNN Regression or Linear Regression model (since we haven't learned the Linear Regression model in class yet).\n",
    "- Finally, we will use v-fold and similar functions to tune our regression model.\n",
    "\n",
    "We can visualize our data by plotting our predicted values along the training/ testing model to visualize the trend and our accuracy."
   ]
  },
  {
   "cell_type": "code",
   "execution_count": 1,
   "id": "f97d7410-c2c5-4e2a-bd5b-f5cb27024b12",
   "metadata": {},
   "outputs": [],
   "source": [
    "#TODO: CODE"
   ]
  },
  {
   "cell_type": "markdown",
   "id": "15e489b7-2af7-4493-a1af-66325a1a36d0",
   "metadata": {},
   "source": [
    "### Discussion\n"
   ]
  },
  {
   "cell_type": "markdown",
   "id": "6bff53ec-35ac-4fc2-be5c-2b0b413fc1c6",
   "metadata": {},
   "source": [
    "### References\n"
   ]
  },
  {
   "cell_type": "code",
   "execution_count": null,
   "id": "91a41972-4bd6-4cb1-a336-fe68382203b5",
   "metadata": {},
   "outputs": [],
   "source": []
  }
 ],
 "metadata": {
  "kernelspec": {
   "display_name": "R",
   "language": "R",
   "name": "ir"
  },
  "language_info": {
   "codemirror_mode": "r",
   "file_extension": ".r",
   "mimetype": "text/x-r-source",
   "name": "R",
   "pygments_lexer": "r",
   "version": "4.3.1"
  }
 },
 "nbformat": 4,
 "nbformat_minor": 5
}
