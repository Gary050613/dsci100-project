{
 "cells": [
  {
   "cell_type": "markdown",
   "id": "2adaf5c1-2e27-45d8-ae1c-f464f9766ce8",
   "metadata": {},
   "source": [
    "# Title Placeholder\n",
    "## Introduction\n",
    "\n",
    "## Preliminary exploratory data analysis\n",
    "\n",
    "## Methods\n",
    "\n",
    "## Expected outcomes and significance\n",
    "\n"
   ]
  },
  {
   "cell_type": "code",
   "execution_count": 3,
   "id": "63136965-dfd5-494e-95fa-e6c51a2c6147",
   "metadata": {},
   "outputs": [
    {
     "data": {
      "text/html": [
       "2"
      ],
      "text/latex": [
       "2"
      ],
      "text/markdown": [
       "2"
      ],
      "text/plain": [
       "[1] 2"
      ]
     },
     "metadata": {},
     "output_type": "display_data"
    }
   ],
   "source": [
    "test <- 1 + 1\n",
    "test"
   ]
  },
  {
   "cell_type": "code",
   "execution_count": null,
   "id": "f401099c-844e-4915-9c74-a94cce269c30",
   "metadata": {},
   "outputs": [],
   "source": []
  },
  {
   "cell_type": "code",
   "execution_count": 4,
   "id": "dd4bae71-beda-4503-9659-51a723cbd58a",
   "metadata": {},
   "outputs": [],
   "source": [
    "wegwegiuhweiuh <- 1\n"
   ]
  },
  {
   "cell_type": "code",
   "execution_count": null,
   "id": "8af9d3a7-cd2a-4c0d-b17b-0aec3fa41743",
   "metadata": {},
   "outputs": [],
   "source": []
  }
 ],
 "metadata": {
  "kernelspec": {
   "display_name": "R",
   "language": "R",
   "name": "ir"
  },
  "language_info": {
   "codemirror_mode": "r",
   "file_extension": ".r",
   "mimetype": "text/x-r-source",
   "name": "R",
   "pygments_lexer": "r",
   "version": "4.3.1"
  }
 },
 "nbformat": 4,
 "nbformat_minor": 5
}
