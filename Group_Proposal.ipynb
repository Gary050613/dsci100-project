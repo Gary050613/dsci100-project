{
 "cells": [
  {
   "cell_type": "code",
   "execution_count": 3,
   "id": "63136965-dfd5-494e-95fa-e6c51a2c6147",
   "metadata": {},
   "outputs": [
    {
     "data": {
      "text/html": [
       "2"
      ],
      "text/latex": [
       "2"
      ],
      "text/markdown": [
       "2"
      ],
      "text/plain": [
       "[1] 2"
      ]
     },
     "metadata": {},
     "output_type": "display_data"
    }
   ],
   "source": [
    "test <- 1 + 1\n",
    "test"
   ]
  },
  {
   "cell_type": "code",
   "execution_count": null,
   "id": "f84a46f2-a43d-44cc-9e89-7b99470d05e6",
   "metadata": {},
   "outputs": [],
   "source": []
  },
  {
   "cell_type": "code",
   "execution_count": 4,
   "id": "dd4bae71-beda-4503-9659-51a723cbd58a",
   "metadata": {},
   "outputs": [],
   "source": [
    "wegwegiuhweiuh <- 1\n"
   ]
  },
  {
   "cell_type": "code",
   "execution_count": null,
   "id": "8af9d3a7-cd2a-4c0d-b17b-0aec3fa41743",
   "metadata": {},
   "outputs": [],
   "source": []
  }
 ],
 "metadata": {
  "kernelspec": {
   "display_name": "R",
   "language": "R",
   "name": "ir"
  },
  "language_info": {
   "codemirror_mode": "r",
   "file_extension": ".r",
   "mimetype": "text/x-r-source",
   "name": "R",
   "pygments_lexer": "r",
   "version": "4.3.1"
  }
 },
 "nbformat": 4,
 "nbformat_minor": 5
}
